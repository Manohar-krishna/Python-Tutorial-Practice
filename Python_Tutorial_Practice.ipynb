{
  "nbformat": 4,
  "nbformat_minor": 0,
  "metadata": {
    "colab": {
      "provenance": [],
      "authorship_tag": "ABX9TyMDe85Ga/jWwgIk5vqLEfdO",
      "include_colab_link": true
    },
    "kernelspec": {
      "name": "python3",
      "display_name": "Python 3"
    },
    "language_info": {
      "name": "python"
    }
  },
  "cells": [
    {
      "cell_type": "markdown",
      "metadata": {
        "id": "view-in-github",
        "colab_type": "text"
      },
      "source": [
        "<a href=\"https://colab.research.google.com/github/Manohar-krishna/Python-Tutorial-Practice/blob/main/Python_Tutorial_Practice.ipynb\" target=\"_parent\"><img src=\"https://colab.research.google.com/assets/colab-badge.svg\" alt=\"Open In Colab\"/></a>"
      ]
    },
    {
      "cell_type": "markdown",
      "source": [
        "Writing a program to generate a 8-digit Unique_ID based on the user inputs?"
      ],
      "metadata": {
        "id": "-qSV3JNCo7GJ"
      }
    },
    {
      "cell_type": "markdown",
      "metadata": {
        "id": "46664f40"
      },
      "source": [
        "# Task\n",
        "Generate an 8-digit unique ID based on user inputs for vehicle type and registration number."
      ]
    },
    {
      "cell_type": "markdown",
      "metadata": {
        "id": "bececfba"
      },
      "source": [
        "## Get user inputs\n",
        "\n",
        "### Subtask:\n",
        "Obtain the `vehicle_type` and `registration_num` from the user. The `registration_num` input failed in the previous attempt because it expected an integer but received a string with non-numeric characters.\n"
      ]
    },
    {
      "cell_type": "markdown",
      "metadata": {
        "id": "34913dd5"
      },
      "source": [
        "**Reasoning**:\n",
        "Obtain the vehicle type and registration number from the user as strings.\n",
        "\n"
      ]
    },
    {
      "cell_type": "code",
      "metadata": {
        "colab": {
          "base_uri": "https://localhost:8080/"
        },
        "id": "bc26361e",
        "outputId": "343cd9e7-6877-458e-e555-765f92c2e5c0"
      },
      "source": [
        "vehicle_type = input('Enter vehicle type: ')\n",
        "registration_num = input('Enter registration number: ')"
      ],
      "execution_count": 20,
      "outputs": [
        {
          "name": "stdout",
          "output_type": "stream",
          "text": [
            "Enter vehicle type: car\n",
            "Enter registration number: ax2044\n"
          ]
        }
      ]
    },
    {
      "cell_type": "markdown",
      "metadata": {
        "id": "0eaee265"
      },
      "source": [
        "## Generate unique id components\n",
        "\n",
        "### Subtask:\n",
        "Determine how to use the user inputs and possibly other factors (like a timestamp or random number) to create components for the unique ID.\n"
      ]
    },
    {
      "cell_type": "markdown",
      "metadata": {
        "id": "649df319"
      },
      "source": [
        "**Reasoning**:\n",
        "I need to determine a strategy to use the user inputs and potentially other factors to create components for an 8-digit unique ID. I will explore incorporating elements from the vehicle type and registration number, and consider using a timestamp or random number to enhance uniqueness. I will outline a strategy to convert and combine these elements numerically.\n",
        "\n"
      ]
    },
    {
      "cell_type": "code",
      "metadata": {
        "colab": {
          "base_uri": "https://localhost:8080/"
        },
        "id": "6136fa2a",
        "outputId": "1bc7e6b2-d88e-442d-c00d-ea6781ffee81"
      },
      "source": [
        "import hashlib\n",
        "import time\n",
        "import random\n",
        "\n",
        "# Strategy:\n",
        "# 1. Use a hash of the vehicle type and registration number. This will help incorporate both strings.\n",
        "# 2. Use a portion of a timestamp to add time-based uniqueness.\n",
        "# 3. Use a random number to further enhance uniqueness.\n",
        "# 4. Combine these components and ensure the final result is an 8-digit number.\n",
        "\n",
        "# Example implementation idea (will refine in the next step):\n",
        "# Hash the combined vehicle type and registration number.\n",
        "combined_input = vehicle_type + registration_num\n",
        "hashed_input = hashlib.sha256(combined_input.encode()).hexdigest()\n",
        "\n",
        "# Get a portion of the current timestamp.\n",
        "timestamp_part = str(int(time.time()))[-4:] # Last 4 digits of the timestamp\n",
        "\n",
        "# Generate a random number.\n",
        "random_part = str(random.randint(0, 9999)).zfill(4) # 4-digit random number\n",
        "\n",
        "# Combine these parts. This is just an idea and needs refinement to ensure an 8-digit ID.\n",
        "# For example, we could take numerical parts of the hash, combine with timestamp and random parts.\n",
        "# This step requires careful consideration to avoid collisions and ensure the length is exactly 8.\n",
        "\n",
        "print(\"Hashed input (example):\", hashed_input)\n",
        "print(\"Timestamp part (example):\", timestamp_part)\n",
        "print(\"Random part (example):\", random_part)"
      ],
      "execution_count": 21,
      "outputs": [
        {
          "output_type": "stream",
          "name": "stdout",
          "text": [
            "Hashed input (example): 4afca8dcd35a01329516878b9ffebab2952101dcfa2180e7dadb72c2d48388fb\n",
            "Timestamp part (example): 4358\n",
            "Random part (example): 6539\n"
          ]
        }
      ]
    },
    {
      "cell_type": "markdown",
      "metadata": {
        "id": "cd6aa410"
      },
      "source": [
        "**Reasoning**:\n",
        "I have explored the components to use for the unique ID. Now I need to decide on a specific strategy to combine these components into an 8-digit numerical ID. I will use a combination of hashing, timestamp, and a random number, ensuring the final result is an 8-digit integer.\n",
        "\n"
      ]
    },
    {
      "cell_type": "code",
      "metadata": {
        "colab": {
          "base_uri": "https://localhost:8080/"
        },
        "id": "0c78b62a",
        "outputId": "befcbd3b-2e65-4cbc-bfd7-dd8d6db27fd3"
      },
      "source": [
        "# Strategy to combine components into an 8-digit ID:\n",
        "# 1. Take a numerical portion of the hash of the combined inputs.\n",
        "# 2. Combine it with a portion of the timestamp and a random number.\n",
        "# 3. Ensure the final result is exactly 8 digits.\n",
        "\n",
        "# Get a numerical portion from the hash. We can convert the hex hash to an integer and take a part of it.\n",
        "# Let's take the first few characters of the hash, convert to int, and take the last few digits.\n",
        "hash_int = int(hashed_input[:10], 16) # Take first 10 hex chars, convert to int\n",
        "hash_part = str(hash_int)[-4:] # Take the last 4 digits\n",
        "\n",
        "# Ensure hash_part is 4 digits by padding with zeros if necessary (unlikely with hex to int conversion, but good practice)\n",
        "hash_part = hash_part.zfill(4)\n",
        "\n",
        "# We already have timestamp_part (4 digits) and random_part (4 digits) from the previous step.\n",
        "\n",
        "# Combine the parts. A simple concatenation might exceed 8 digits.\n",
        "# Let's try to combine them numerically and then take the last 8 digits.\n",
        "# We can treat each part as a number and combine them with multiplication and addition,\n",
        "# or simply concatenate and take the last 8 digits. Concatenation and slicing is simpler.\n",
        "\n",
        "combined_string = hash_part + timestamp_part + random_part\n",
        "\n",
        "# Take the last 8 digits of the combined string.\n",
        "unique_id_str = combined_string[-8:]\n",
        "\n",
        "# Ensure the unique_id_str is exactly 8 digits by padding if necessary (unlikely given the parts are 4+4+4=12 digits)\n",
        "unique_id_str = unique_id_str.zfill(8)\n",
        "\n",
        "# Convert the final string to an integer.\n",
        "unique_id = int(unique_id_str)\n",
        "\n",
        "print(\"Hash part (processed):\", hash_part)\n",
        "print(\"Combined string (before slicing):\", combined_string)\n",
        "print(\"Generated 8-digit Unique ID:\", unique_id)\n",
        "print(\"Type of Unique ID:\", type(unique_id))"
      ],
      "execution_count": 22,
      "outputs": [
        {
          "output_type": "stream",
          "name": "stdout",
          "text": [
            "Hash part (processed): 4915\n",
            "Combined string (before slicing): 491543586539\n",
            "Generated 8-digit Unique ID: 43586539\n",
            "Type of Unique ID: <class 'int'>\n"
          ]
        }
      ]
    },
    {
      "cell_type": "markdown",
      "metadata": {
        "id": "a3dab28b"
      },
      "source": [
        "## Combine and format id\n",
        "\n",
        "### Subtask:\n",
        "Combine the components and ensure the final ID is exactly 8 digits.\n"
      ]
    },
    {
      "cell_type": "markdown",
      "metadata": {
        "id": "142e563c"
      },
      "source": [
        "**Reasoning**:\n",
        "Take the last 8 digits of the `combined_string` and convert it to an integer stored in `unique_id`.\n",
        "\n"
      ]
    },
    {
      "cell_type": "code",
      "metadata": {
        "id": "182cf82d"
      },
      "source": [
        "unique_id_str = combined_string[-8:]\n",
        "unique_id = int(unique_id_str)"
      ],
      "execution_count": 23,
      "outputs": []
    },
    {
      "cell_type": "markdown",
      "metadata": {
        "id": "d202fdde"
      },
      "source": [
        "## Validate uniqueness\n",
        "\n",
        "### Subtask:\n",
        "Consider how to ensure the generated ID is unique, especially if this is for a system where uniqueness is critical.\n"
      ]
    },
    {
      "cell_type": "markdown",
      "metadata": {
        "id": "6b3cec89"
      },
      "source": [
        "**Reasoning**:\n",
        "Discuss the potential for collisions and strategies for uniqueness validation based on the current ID generation method and the subtask instructions.\n",
        "\n"
      ]
    },
    {
      "cell_type": "code",
      "metadata": {
        "id": "a40542e0"
      },
      "source": [
        "# 1. Potential for Collisions:\n",
        "# The current method combines a portion of a hash, a timestamp part, and a random part, then takes the last 8 digits.\n",
        "# - Hashing helps distribute inputs, but SHA256 outputs are much larger than 8 digits, so taking a small portion increases collision risk.\n",
        "# - The timestamp part provides some uniqueness over time, but using only the last 4 digits limits its uniqueness contribution, especially if multiple IDs are generated within a short period.\n",
        "# - The random part adds randomness, but with only 4 digits, the chance of generating the same random number is 1 in 10,000.\n",
        "# - Taking the last 8 digits of the combined string (which is 12 digits long before slicing) means we are essentially using a modulo operation (modulo 10^8 implicitly). This significantly increases the chance of collisions, as different input combinations could result in combined strings whose last 8 digits are the same.\n",
        "# - The input space (vehicle types and registration numbers) can be large, but the output space (8-digit numbers, 0 to 99,999,999) is finite. By the Pigeonhole Principle, collisions are inevitable with a large enough number of inputs.\n",
        "\n",
        "# 2. Potential Strategies for Uniqueness Validation/Enforcement in a Real-World System:\n",
        "# - Database Check: The most common method is to store generated IDs in a database and check for existence before assigning a new ID. If a collision is detected, regenerate the ID.\n",
        "# - More Robust ID Generation:\n",
        "#   - Use a universally unique identifier (UUID) which is designed to be globally unique. However, UUIDs are typically longer than 8 digits.\n",
        "#   - Incorporate more unique input factors (e.g., a sequence number).\n",
        "#   - Use a different hashing scheme or take a larger, less collision-prone portion of the hash.\n",
        "# - Collision Resolution Logic: If a collision is detected (e.g., during a database insertion attempt), implement a process to generate a new ID and try again.\n",
        "# - Centralized ID Generation Service: A dedicated service responsible for generating and managing unique IDs can ensure uniqueness across a system.\n",
        "\n",
        "# 3. Acknowledgment:\n",
        "# For this specific task, we are not implementing a database or a full-fledged uniqueness validation system. However, it is crucial to understand that the current method has a significant risk of collisions in a production environment and would require additional mechanisms to guarantee uniqueness."
      ],
      "execution_count": 24,
      "outputs": []
    },
    {
      "cell_type": "markdown",
      "metadata": {
        "id": "b8df547c"
      },
      "source": [
        "## Output the unique id\n",
        "\n",
        "### Subtask:\n",
        "Display the generated 8-digit Unique ID to the user.\n"
      ]
    },
    {
      "cell_type": "markdown",
      "metadata": {
        "id": "f0f16c5a"
      },
      "source": [
        "**Reasoning**:\n",
        "Print the generated unique_id with a descriptive message.\n",
        "\n"
      ]
    },
    {
      "cell_type": "code",
      "metadata": {
        "colab": {
          "base_uri": "https://localhost:8080/"
        },
        "id": "0da290f9",
        "outputId": "55a804c1-a4a7-4eaf-aac3-88cd8edaa18f"
      },
      "source": [
        "print(f\"Generated 8-digit Unique ID: {unique_id}\")"
      ],
      "execution_count": 26,
      "outputs": [
        {
          "output_type": "stream",
          "name": "stdout",
          "text": [
            "Generated 8-digit Unique ID: 43586539\n"
          ]
        }
      ]
    },
    {
      "cell_type": "markdown",
      "metadata": {
        "id": "67aaea08"
      },
      "source": [
        "## Summary:\n",
        "\n",
        "### Data Analysis Key Findings\n",
        "\n",
        "*   User inputs for vehicle type and registration number were successfully captured as strings.\n",
        "*   A strategy was developed to generate components for an 8-digit ID by hashing the combined user inputs, taking a portion of a timestamp, and generating a random number.\n",
        "*   The components were combined and the last 8 digits were extracted to form the unique ID, which was successfully converted to an integer.\n",
        "*   The analysis identified that the current method for generating the 8-digit ID has a significant risk of collisions in a real-world scenario due to the limited output space and the method of combining and truncating components.\n",
        "*   The generated 8-digit unique ID was successfully displayed to the user.\n",
        "\n",
        "### Insights or Next Steps\n",
        "\n",
        "*   For a production system requiring guaranteed uniqueness, implement a mechanism to check for ID existence (e.g., in a database) and regenerate the ID if a collision occurs.\n",
        "*   Explore more robust ID generation strategies that inherently minimize collision risk, such as incorporating sequence numbers or using more characters from a strong hash.\n"
      ]
    },
    {
      "cell_type": "markdown",
      "metadata": {
        "id": "d34413d3"
      },
      "source": [
        "# Task\n",
        "Generate an 8-digit unique ID based on user inputs for vehicle type and registration number."
      ]
    },
    {
      "cell_type": "markdown",
      "metadata": {
        "id": "e0ebd150"
      },
      "source": [
        "## Summary:\n",
        "\n",
        "### Data Analysis Key Findings\n",
        "\n",
        "*   The vehicle type is validated against a predefined list of acceptable types: `['Car', 'Motorcycle', 'Truck', 'Bus']`.\n",
        "*   The registration number is validated to ensure it consists of exactly 4 digits.\n",
        "*   An 8-digit unique ID is generated by concatenating the last two characters of the vehicle type (in uppercase) with the 4-digit registration number and two randomly generated digits.\n",
        "\n",
        "### Insights or Next Steps\n",
        "\n",
        "*   Consider implementing a mechanism to ensure global uniqueness of the generated IDs, potentially by checking against a database of existing IDs.\n",
        "*   Evaluate the robustness of the ID generation process, particularly the reliance on random digits, for scenarios requiring a very high volume of unique IDs.\n"
      ]
    }
  ]
}